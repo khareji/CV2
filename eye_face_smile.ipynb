{
 "cells": [
  {
   "cell_type": "code",
   "execution_count": 1,
   "metadata": {},
   "outputs": [],
   "source": [
    "import cv2\n"
   ]
  },
  {
   "cell_type": "code",
   "execution_count": 2,
   "metadata": {},
   "outputs": [],
   "source": [
    "face_cascade = cv2.CascadeClassifier('newfront.xml')\n",
    "eye_cascade = cv2.CascadeClassifier(\"neweye.xml\")\n",
    "smile_cascade=cv2.CascadeClassifier(\"newsmile.xml\")"
   ]
  },
  {
   "cell_type": "code",
   "execution_count": 3,
   "metadata": {},
   "outputs": [],
   "source": [
    "def detect(gray,frame):\n",
    "    face = face_cascade.detectMultiScale(gray,1.3,7) #taking face css \n",
    "    for (x,y,w,h) in face: #four points on faces X,Y,W,H\n",
    "        cv2.rectangle(frame, (x,y),(x+w,y+h),(0,255,0),3) #drawing rectangle over face (0,255,0=colur),(3= thickness)\n",
    "        roi_gray = gray[y:y+h,x:x+w] #croping face \n",
    "        roi_frame = frame[y:y+h,x:x+w] #croping frame \n",
    "        eyes = eye_cascade.detectMultiScale(roi_gray,1.1,7) #applying eyes css\n",
    "        for (ex,ey,ew,eh) in eyes:\n",
    "            cv2.rectangle(roi_frame,(ex,ey),(ex+ew,ey+eh),(255,0,0),2)\n",
    "        smile=smile_cascade.detectMultiScale(roi_gray,1.3,5)\n",
    "        for(sx,sy,sw,sh) in smile:\n",
    "            cv2.rectangle(roi_frame,(sx,sy),(sx+sw,sy+sh),(0,255,2),5)\n",
    "    return frame"
   ]
  },
  {
   "cell_type": "code",
   "execution_count": 4,
   "metadata": {},
   "outputs": [],
   "source": [
    "video_capture = cv2.VideoCapture(0) # video capture\n",
    "while True:\n",
    "    _, frame = video_capture.read() #reading the frames from image\n",
    "    gray = cv2.cvtColor(frame, cv2.COLOR_BGR2GRAY) #converting into gray colour , RGB takes too much of time\n",
    "    canvas = detect(gray, frame) #calling detect function with gray image plus frame taken by our image\n",
    "    cv2.imshow('Video', canvas)\n",
    "    if cv2.waitKey(1) & 0xFF == ord('q'):\n",
    "        break\n",
    "video_capture.release()\n",
    "cv2.destroyAllWindows()"
   ]
  },
  {
   "cell_type": "code",
   "execution_count": null,
   "metadata": {},
   "outputs": [],
   "source": []
  },
  {
   "cell_type": "code",
   "execution_count": null,
   "metadata": {},
   "outputs": [],
   "source": []
  },
  {
   "cell_type": "code",
   "execution_count": null,
   "metadata": {},
   "outputs": [],
   "source": []
  },
  {
   "cell_type": "code",
   "execution_count": null,
   "metadata": {},
   "outputs": [],
   "source": []
  },
  {
   "cell_type": "code",
   "execution_count": null,
   "metadata": {},
   "outputs": [],
   "source": []
  },
  {
   "cell_type": "code",
   "execution_count": null,
   "metadata": {},
   "outputs": [],
   "source": []
  },
  {
   "cell_type": "code",
   "execution_count": null,
   "metadata": {},
   "outputs": [],
   "source": []
  },
  {
   "cell_type": "code",
   "execution_count": null,
   "metadata": {},
   "outputs": [],
   "source": []
  },
  {
   "cell_type": "code",
   "execution_count": null,
   "metadata": {},
   "outputs": [],
   "source": []
  }
 ],
 "metadata": {
  "kernelspec": {
   "display_name": "Python 3",
   "language": "python",
   "name": "python3"
  },
  "language_info": {
   "codemirror_mode": {
    "name": "ipython",
    "version": 3
   },
   "file_extension": ".py",
   "mimetype": "text/x-python",
   "name": "python",
   "nbconvert_exporter": "python",
   "pygments_lexer": "ipython3",
   "version": "3.7.3"
  }
 },
 "nbformat": 4,
 "nbformat_minor": 4
}
